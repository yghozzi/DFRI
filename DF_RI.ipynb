{
  "nbformat": 4,
  "nbformat_minor": 0,
  "metadata": {
    "colab": {
      "provenance": []
    },
    "kernelspec": {
      "name": "python3",
      "display_name": "Python 3"
    },
    "language_info": {
      "name": "python"
    }
  },
  "cells": [
    {
      "cell_type": "markdown",
      "source": [
        "## **Step 1** 🇰\n",
        "Pre_trained_InceptionRestNetV2_for_Feature_Extraction.ipynb"
      ],
      "metadata": {
        "id": "X7c0kS-j8uHV"
      }
    },
    {
      "cell_type": "markdown",
      "source": [
        "## **Step 2:**\n",
        "Fuzzification of Feature\n",
        "DOI: 10.1109/FUZZ-IEEE.2017.8015690"
      ],
      "metadata": {
        "id": "vBUkm3N886dk"
      }
    },
    {
      "cell_type": "code",
      "execution_count": null,
      "metadata": {
        "id": "VNAbeakh8ssb"
      },
      "outputs": [],
      "source": [
        "#from random import randint\n",
        "def betamf(x, p,q,mn,mx):\n",
        "  xc=int((p*mx+q*mn)/(p+q))\n",
        "  if p>0 and q>0 and mx>mn and mx != xc and mn != xc and x<mx and x>mn:\n",
        "    fuzz = float(pow(((x-mn)/(xc-mn)),p)*pow(((mx-x)/(mx-xc)),q))\n",
        "  else:\n",
        "    fuzz =0.0\n",
        "  return fuzz"
      ]
    },
    {
      "cell_type": "code",
      "source": [
        "Example of Fuzzification with Fuzzy Beta Function"
      ],
      "metadata": {
        "id": "Ga6bZqvx9kZg"
      },
      "execution_count": null,
      "outputs": []
    },
    {
      "cell_type": "code",
      "source": [
        "mat = [[0, 4, 2, -8, 10],[1, -2, 4, -5, 3],[1, -2, 4, -5, 3]]\n",
        "print(mat)\n",
        "d = betamf(mat, 2, 2, -8, 10)\n",
        "print(d)"
      ],
      "metadata": {
        "id": "PA6IfZO79fqI"
      },
      "execution_count": null,
      "outputs": []
    },
    {
      "cell_type": "code",
      "source": [
        "#fuzzification beta train up = 1.3\n",
        "import numpy as np\n",
        "\n",
        "p = 2*1.3\n",
        "\n",
        "feature = []\n",
        "fuzz_features = []\n",
        "features_fuzz = []\n",
        "#print(feature_list)\n",
        "print(len(pca_compressed_feature_list[0]))\n",
        "print(len(pca_compressed_feature_list))\n",
        "feature=[[pca_compressed_feature_list[j][i] for j in range(len(pca_compressed_feature_list))] for i in range(len(pca_compressed_feature_list[0]))]\n",
        "print(len(feature))\n",
        "print(len(feature[0]))\n",
        "#print(feature[0])\n",
        "for j in range(len(feature)):\n",
        "  fuzz_feature = []\n",
        "  x= np.asarray(feature[j])\n",
        "  mn = float(np.min(x))\n",
        "  mx = float(np.max(x))\n",
        "  moy = float(np.mean(x))\n",
        "  q=(moy-mn)*p/(mx-moy+0.00001)\n",
        "  for k in x:\n",
        "    fuzz_feature.append(betamf(k, p, q, mn, mx))\n",
        "  fuzz_features.append(fuzz_feature)\n",
        "print(len(fuzz_features[0]))\n",
        "print(len(fuzz_features))\n",
        "features_fuzz = [[fuzz_features[j][i] for j in range(len(fuzz_features))] for i in range(len(fuzz_features[0]))]\n",
        "print(len(features_fuzz[0]))\n",
        "print(len(features_fuzz))"
      ],
      "metadata": {
        "id": "FlzzZElG98qa"
      },
      "execution_count": null,
      "outputs": []
    },
    {
      "cell_type": "markdown",
      "source": [
        "## **Step 3:**\n",
        "Retrieval Image based of Deep Fuzzy Feature\n",
        "\n",
        "*   Deep Learning: InceptionResNetV2 model\n",
        "*   Fuzzification: Fuzzy Beta Function\n",
        "\n"
      ],
      "metadata": {
        "id": "pepTw-CL-fRY"
      }
    },
    {
      "cell_type": "code",
      "source": [
        "import os\n",
        "import ntpath\n",
        "import numpy as np\n",
        "from sklearn.neighbors import NearestNeighbors\n",
        "from pyflann import *\n",
        "from numpy import *\n",
        "from numpy.random import *\n",
        "norm_features = np.asarray(feature_list_test_norm)\n",
        "feature_list_norm = np.asarray(feature_list_norm)\n",
        "flann = FLANN()\n",
        "result,dists = flann.nn(feature_list_norm,feature_list_test_norm,20,algorithm=\"kmeans\",metrics = 'mydist2', branching=50, iterations=20, checks=10)\n",
        "#result,dists = flann.nn(pca_compressed_features,pca_compressed_features_test,20,algorithm=\"kmeans\",metrics = 'mydist2', branching=50, iterations=20, checks=10)\n",
        "precision = []\n",
        "scope = 20\n",
        "index=0\n",
        "for idx1 in range(10):\n",
        "  precisionc = []\n",
        "  for idx2 in range(10):\n",
        "    TP = 0\n",
        "    x= ntpath.split(ntpath.split(filenames_test[index])[0])[1]\n",
        "    #print(x)\n",
        "    for i in range(0,scope):\n",
        "      y=result[index][i]\n",
        "      xx=ntpath.split(ntpath.split(filenames[y])[0])[1]\n",
        "      #print(xx)\n",
        "      if x == xx:\n",
        "       TP+=1\n",
        "    precision += [TP/scope]\n",
        "    precisionc += [TP/scope]\n",
        "    index+=1\n",
        "    #print(precision[-1])\n",
        "  print(x)\n",
        "  print(precisionc)\n",
        "  print(np.mean(precisionc))\n",
        "#print(precision)\n",
        "print(np.mean(precision))"
      ],
      "metadata": {
        "id": "lMrNxVfE9-uS"
      },
      "execution_count": null,
      "outputs": []
    }
  ]
}